{
 "cells": [
  {
   "cell_type": "markdown",
   "id": "ff24ee77-eeb8-4ace-bd67-f17341235bf8",
   "metadata": {},
   "source": [
    "# <b>Neural Network Model Design<b/>\n"
   ]
  },
  {
   "cell_type": "markdown",
   "id": "2cf39f92-9b9e-41dc-8fba-1764f37163e6",
   "metadata": {
    "tags": []
   },
   "source": [
    "## Import Cleaned Data"
   ]
  },
  {
   "cell_type": "code",
   "execution_count": null,
   "id": "d5c31bc5-da39-46c3-bacd-e961e3ecac8a",
   "metadata": {},
   "outputs": [],
   "source": [
    "import numpy as np\n",
    "import pandas as pd"
   ]
  },
  {
   "cell_type": "code",
   "execution_count": null,
   "id": "a5b6eca5-8476-47e1-ab09-69b508f53954",
   "metadata": {},
   "outputs": [],
   "source": [
    "df = pd.read_csv(\"data_cleaning/train_data.csv\")"
   ]
  },
  {
   "cell_type": "code",
   "execution_count": null,
   "id": "7c96acb6-6e93-45ae-b811-99b5208d91e7",
   "metadata": {},
   "outputs": [],
   "source": [
    "df"
   ]
  },
  {
   "cell_type": "code",
   "execution_count": 76,
   "id": "1439c605-c8ae-4072-821c-1b0ca73ca089",
   "metadata": {},
   "outputs": [
    {
     "data": {
      "text/plain": [
       "(90398, 66)"
      ]
     },
     "execution_count": 76,
     "metadata": {},
     "output_type": "execute_result"
    }
   ],
   "source": [
    "df.shape\n"
   ]
  },
  {
   "cell_type": "code",
   "execution_count": 77,
   "id": "ad935606-5284-45e4-922a-c79a3a447b44",
   "metadata": {},
   "outputs": [],
   "source": [
    "df[\"eval\"] = df[\"eval\"].clip(lower = -15, upper = 15)"
   ]
  },
  {
   "cell_type": "code",
   "execution_count": 78,
   "id": "c30edda4-83f7-49e5-b1ab-6ee2e524f00b",
   "metadata": {},
   "outputs": [
    {
     "data": {
      "text/plain": [
       "-15.0"
      ]
     },
     "execution_count": 78,
     "metadata": {},
     "output_type": "execute_result"
    }
   ],
   "source": [
    "df[\"eval\"].min()"
   ]
  },
  {
   "cell_type": "code",
   "execution_count": 79,
   "id": "d803075e-34b8-4337-8149-6084b9e854da",
   "metadata": {},
   "outputs": [],
   "source": [
    "X = df.drop(columns = \"eval\")"
   ]
  },
  {
   "cell_type": "code",
   "execution_count": 80,
   "id": "b68e12b1-ea48-4f3b-a509-48f7910aaacf",
   "metadata": {},
   "outputs": [],
   "source": [
    "y = df[[\"eval\"]]"
   ]
  },
  {
   "cell_type": "code",
   "execution_count": 81,
   "id": "5e95b6f9-6ef6-48b8-9eac-55f89a34bf0b",
   "metadata": {},
   "outputs": [
    {
     "data": {
      "text/html": [
       "<div>\n",
       "<style scoped>\n",
       "    .dataframe tbody tr th:only-of-type {\n",
       "        vertical-align: middle;\n",
       "    }\n",
       "\n",
       "    .dataframe tbody tr th {\n",
       "        vertical-align: top;\n",
       "    }\n",
       "\n",
       "    .dataframe thead th {\n",
       "        text-align: right;\n",
       "    }\n",
       "</style>\n",
       "<table border=\"1\" class=\"dataframe\">\n",
       "  <thead>\n",
       "    <tr style=\"text-align: right;\">\n",
       "      <th></th>\n",
       "      <th>eval</th>\n",
       "    </tr>\n",
       "  </thead>\n",
       "  <tbody>\n",
       "    <tr>\n",
       "      <th>0</th>\n",
       "      <td>0.07</td>\n",
       "    </tr>\n",
       "    <tr>\n",
       "      <th>1</th>\n",
       "      <td>0.33</td>\n",
       "    </tr>\n",
       "    <tr>\n",
       "      <th>2</th>\n",
       "      <td>0.33</td>\n",
       "    </tr>\n",
       "    <tr>\n",
       "      <th>3</th>\n",
       "      <td>0.50</td>\n",
       "    </tr>\n",
       "    <tr>\n",
       "      <th>4</th>\n",
       "      <td>0.58</td>\n",
       "    </tr>\n",
       "  </tbody>\n",
       "</table>\n",
       "</div>"
      ],
      "text/plain": [
       "   eval\n",
       "0  0.07\n",
       "1  0.33\n",
       "2  0.33\n",
       "3  0.50\n",
       "4  0.58"
      ]
     },
     "execution_count": 81,
     "metadata": {},
     "output_type": "execute_result"
    }
   ],
   "source": [
    "y.head()"
   ]
  },
  {
   "cell_type": "code",
   "execution_count": 82,
   "id": "fa97d1c8-a256-424d-814a-b751d3503d96",
   "metadata": {},
   "outputs": [
    {
     "data": {
      "text/html": [
       "<div>\n",
       "<style scoped>\n",
       "    .dataframe tbody tr th:only-of-type {\n",
       "        vertical-align: middle;\n",
       "    }\n",
       "\n",
       "    .dataframe tbody tr th {\n",
       "        vertical-align: top;\n",
       "    }\n",
       "\n",
       "    .dataframe thead th {\n",
       "        text-align: right;\n",
       "    }\n",
       "</style>\n",
       "<table border=\"1\" class=\"dataframe\">\n",
       "  <thead>\n",
       "    <tr style=\"text-align: right;\">\n",
       "      <th></th>\n",
       "      <th>side_to_play</th>\n",
       "      <th>feat_1</th>\n",
       "      <th>feat_2</th>\n",
       "      <th>feat_3</th>\n",
       "      <th>feat_4</th>\n",
       "      <th>feat_5</th>\n",
       "      <th>feat_6</th>\n",
       "      <th>feat_7</th>\n",
       "      <th>feat_8</th>\n",
       "      <th>feat_9</th>\n",
       "      <th>...</th>\n",
       "      <th>feat_55</th>\n",
       "      <th>feat_56</th>\n",
       "      <th>feat_57</th>\n",
       "      <th>feat_58</th>\n",
       "      <th>feat_59</th>\n",
       "      <th>feat_60</th>\n",
       "      <th>feat_61</th>\n",
       "      <th>feat_62</th>\n",
       "      <th>feat_63</th>\n",
       "      <th>feat_64</th>\n",
       "    </tr>\n",
       "  </thead>\n",
       "  <tbody>\n",
       "    <tr>\n",
       "      <th>4</th>\n",
       "      <td>-1.0</td>\n",
       "      <td>-5.0</td>\n",
       "      <td>-2.9</td>\n",
       "      <td>-3.0</td>\n",
       "      <td>0.0</td>\n",
       "      <td>-1.5</td>\n",
       "      <td>-3.0</td>\n",
       "      <td>-2.9</td>\n",
       "      <td>-5.0</td>\n",
       "      <td>-1.0</td>\n",
       "      <td>...</td>\n",
       "      <td>1.0</td>\n",
       "      <td>1.0</td>\n",
       "      <td>5.0</td>\n",
       "      <td>0.0</td>\n",
       "      <td>3.0</td>\n",
       "      <td>9.0</td>\n",
       "      <td>1.5</td>\n",
       "      <td>3.0</td>\n",
       "      <td>2.9</td>\n",
       "      <td>5.0</td>\n",
       "    </tr>\n",
       "  </tbody>\n",
       "</table>\n",
       "<p>1 rows × 65 columns</p>\n",
       "</div>"
      ],
      "text/plain": [
       "   side_to_play  feat_1  feat_2  feat_3  feat_4  feat_5  feat_6  feat_7  \\\n",
       "4          -1.0    -5.0    -2.9    -3.0     0.0    -1.5    -3.0    -2.9   \n",
       "\n",
       "   feat_8  feat_9  ...  feat_55  feat_56  feat_57  feat_58  feat_59  feat_60  \\\n",
       "4    -5.0    -1.0  ...      1.0      1.0      5.0      0.0      3.0      9.0   \n",
       "\n",
       "   feat_61  feat_62  feat_63  feat_64  \n",
       "4      1.5      3.0      2.9      5.0  \n",
       "\n",
       "[1 rows x 65 columns]"
      ]
     },
     "execution_count": 82,
     "metadata": {},
     "output_type": "execute_result"
    }
   ],
   "source": [
    "X_pred = X.iloc[[4]]\n",
    "X_pred"
   ]
  },
  {
   "cell_type": "code",
   "execution_count": 83,
   "id": "2fc58cd2-4b8c-4eb2-8638-eee93dfd96cb",
   "metadata": {},
   "outputs": [],
   "source": [
    "from sklearn.model_selection import train_test_split\n",
    "X_train, X_test, y_train, y_test = train_test_split(X, y, test_size=0.3, random_state=42)"
   ]
  },
  {
   "cell_type": "code",
   "execution_count": 84,
   "id": "6f1d8548-1bbc-41ec-a750-c6877e1adcbd",
   "metadata": {},
   "outputs": [
    {
     "data": {
      "text/plain": [
       "(63278, 65)"
      ]
     },
     "execution_count": 84,
     "metadata": {},
     "output_type": "execute_result"
    }
   ],
   "source": [
    "X_train.shape"
   ]
  },
  {
   "cell_type": "markdown",
   "id": "2e4f882d-82ee-42be-86b9-76b47ff08032",
   "metadata": {
    "tags": []
   },
   "source": [
    "## Deep Learning Model "
   ]
  },
  {
   "cell_type": "code",
   "execution_count": 57,
   "id": "1df4132a-c16c-41d1-8f3b-45a33eb232b0",
   "metadata": {},
   "outputs": [],
   "source": [
    "from tensorflow.keras import Sequential, layers"
   ]
  },
  {
   "cell_type": "code",
   "execution_count": 117,
   "id": "21888273-4a7c-4386-9510-5f3af87ab848",
   "metadata": {},
   "outputs": [
    {
     "name": "stdout",
     "output_type": "stream",
     "text": [
      "Model: \"sequential_16\"\n",
      "_________________________________________________________________\n",
      " Layer (type)                Output Shape              Param #   \n",
      "=================================================================\n",
      " dense_80 (Dense)            (None, 128)               8448      \n",
      "                                                                 \n",
      " dense_81 (Dense)            (None, 64)                8256      \n",
      "                                                                 \n",
      " dense_82 (Dense)            (None, 64)                4160      \n",
      "                                                                 \n",
      " dense_83 (Dense)            (None, 64)                4160      \n",
      "                                                                 \n",
      " dense_84 (Dense)            (None, 64)                4160      \n",
      "                                                                 \n",
      " dense_85 (Dense)            (None, 32)                2080      \n",
      "                                                                 \n",
      " dense_86 (Dense)            (None, 16)                528       \n",
      "                                                                 \n",
      " dense_87 (Dense)            (None, 8)                 136       \n",
      "                                                                 \n",
      " dense_88 (Dense)            (None, 1)                 9         \n",
      "                                                                 \n",
      "=================================================================\n",
      "Total params: 31,937\n",
      "Trainable params: 31,937\n",
      "Non-trainable params: 0\n",
      "_________________________________________________________________\n"
     ]
    }
   ],
   "source": [
    "# Model definition\n",
    "model = Sequential()\n",
    "model.add(layers.Dense(128, activation='relu', input_dim=65))\n",
    "model.add(layers.Dense(64, activation='relu'))\n",
    "model.add(layers.Dense(64, activation='relu'))\n",
    "model.add(layers.Dense(64, activation='relu'))\n",
    "model.add(layers.Dense(64, activation='relu'))\n",
    "model.add(layers.Dense(32, activation='relu'))\n",
    "model.add(layers.Dense(16, activation='relu'))\n",
    "model.add(layers.Dense(8, activation='relu'))\n",
    "model.add(layers.Dense(1, activation='linear'))\n",
    "model.summary()\n"
   ]
  },
  {
   "cell_type": "code",
   "execution_count": 118,
   "id": "9b721abd-4b20-4741-b577-a2c6cb5dc029",
   "metadata": {},
   "outputs": [],
   "source": [
    "model.compile(loss='mse', optimizer='adam')\n"
   ]
  },
  {
   "cell_type": "code",
   "execution_count": 123,
   "id": "bb1403f0-fce0-4ac6-9ca7-dbd867003e0d",
   "metadata": {},
   "outputs": [
    {
     "name": "stdout",
     "output_type": "stream",
     "text": [
      "Epoch 1/10\n",
      "904/904 [==============================] - 3s 3ms/step - loss: 6.7743\n",
      "Epoch 2/10\n",
      "904/904 [==============================] - 2s 3ms/step - loss: 6.7381\n",
      "Epoch 3/10\n",
      "904/904 [==============================] - 4s 4ms/step - loss: 6.4411\n",
      "Epoch 4/10\n",
      "904/904 [==============================] - 4s 4ms/step - loss: 6.4836\n",
      "Epoch 5/10\n",
      "904/904 [==============================] - 3s 3ms/step - loss: 6.1900\n",
      "Epoch 6/10\n",
      "904/904 [==============================] - 3s 3ms/step - loss: 6.1119\n",
      "Epoch 7/10\n",
      "904/904 [==============================] - 2s 3ms/step - loss: 6.0537\n",
      "Epoch 8/10\n",
      "904/904 [==============================] - 3s 3ms/step - loss: 5.9978\n",
      "Epoch 9/10\n",
      "904/904 [==============================] - 2s 3ms/step - loss: 5.8999\n",
      "Epoch 10/10\n",
      "904/904 [==============================] - 3s 3ms/step - loss: 5.7131\n"
     ]
    },
    {
     "data": {
      "text/plain": [
       "<keras.callbacks.History at 0x7f03b6d45760>"
      ]
     },
     "execution_count": 123,
     "metadata": {},
     "output_type": "execute_result"
    }
   ],
   "source": [
    "model.fit(X_train, y_train, batch_size=70, epochs=10,verbose = 1)"
   ]
  },
  {
   "cell_type": "code",
   "execution_count": 124,
   "id": "ca7484d1-e276-4085-90a5-849aefd486c0",
   "metadata": {},
   "outputs": [
    {
     "name": "stdout",
     "output_type": "stream",
     "text": [
      "848/848 [==============================] - 2s 2ms/step - loss: 15.5335\n"
     ]
    },
    {
     "data": {
      "text/plain": [
       "15.533502578735352"
      ]
     },
     "execution_count": 124,
     "metadata": {},
     "output_type": "execute_result"
    }
   ],
   "source": [
    "model.evaluate(X_test, y_test, verbose = 1)"
   ]
  },
  {
   "cell_type": "markdown",
   "id": "101aec3b-2a43-4319-83c0-70e55d46d0f8",
   "metadata": {},
   "source": [
    "## Exporting model"
   ]
  },
  {
   "cell_type": "code",
   "execution_count": 125,
   "id": "30eb32e9-8154-4a6e-bb69-95e36db6b363",
   "metadata": {},
   "outputs": [
    {
     "name": "stdout",
     "output_type": "stream",
     "text": [
      "Saved model to disk\n"
     ]
    }
   ],
   "source": [
    "# serialize model to JSON\n",
    "model_json = model.to_json()\n",
    "with open(\"model.json\", \"w\") as json_file:\n",
    "    json_file.write(model_json)\n",
    "# serialize weights to HDF5\n",
    "model.save_weights(\"model.h5\")\n",
    "print(\"Saved model to disk\")"
   ]
  },
  {
   "cell_type": "markdown",
   "id": "b648e67b-6667-462a-a213-145b5f4e44df",
   "metadata": {},
   "source": [
    "## Loading model"
   ]
  },
  {
   "cell_type": "code",
   "execution_count": null,
   "id": "c8129ff1-cc9d-49bf-a207-7ecf8e2ded5e",
   "metadata": {},
   "outputs": [],
   "source": [
    "# load json and create model\n",
    "json_file = open('model.json', 'r')\n",
    "loaded_model_json = json_file.read()\n",
    "json_file.close()\n",
    "loaded_model = model_from_json(loaded_model_json)\n",
    "# load weights into new model\n",
    "loaded_model.load_weights(\"model.h5\")\n",
    "print(\"Loaded model from disk\")"
   ]
  },
  {
   "cell_type": "markdown",
   "id": "d7c8930b-9c04-479d-8507-567c6bf0b528",
   "metadata": {},
   "source": [
    "## Evaluating Loaded models"
   ]
  },
  {
   "cell_type": "code",
   "execution_count": null,
   "id": "f5887bbf-48b2-480c-af54-b0dc429624a2",
   "metadata": {},
   "outputs": [],
   "source": [
    "loaded_model.compile(loss='RMSE', optimizer='adam', metrics=['accuracy'])\n",
    "score = loaded_model.evaluate(X, y, verbose=1)\n",
    "print(\"%s: %.2f%%\" % (loaded_model.metrics_names[1], score[1]*100))"
   ]
  }
 ],
 "metadata": {
  "kernelspec": {
   "display_name": "Python 3 (ipykernel)",
   "language": "python",
   "name": "python3"
  },
  "language_info": {
   "codemirror_mode": {
    "name": "ipython",
    "version": 3
   },
   "file_extension": ".py",
   "mimetype": "text/x-python",
   "name": "python",
   "nbconvert_exporter": "python",
   "pygments_lexer": "ipython3",
   "version": "3.8.12"
  }
 },
 "nbformat": 4,
 "nbformat_minor": 5
}
