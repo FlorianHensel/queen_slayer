{
 "cells": [
  {
   "cell_type": "markdown",
   "id": "ff24ee77-eeb8-4ace-bd67-f17341235bf8",
   "metadata": {},
   "source": [
    "# <b>Neural Network Model Design<b/>\n"
   ]
  },
  {
   "cell_type": "markdown",
   "id": "2cf39f92-9b9e-41dc-8fba-1764f37163e6",
   "metadata": {
    "tags": []
   },
   "source": [
    "## Import Cleaned Data"
   ]
  },
  {
   "cell_type": "code",
   "execution_count": 2,
   "id": "d5c31bc5-da39-46c3-bacd-e961e3ecac8a",
   "metadata": {},
   "outputs": [],
   "source": [
    "import numpy as np\n",
    "import pandas as pd"
   ]
  },
  {
   "cell_type": "code",
   "execution_count": 3,
   "id": "a5b6eca5-8476-47e1-ab09-69b508f53954",
   "metadata": {},
   "outputs": [],
   "source": [
    "df = pd.read_csv(\"data_cleaning/train_data.csv\")"
   ]
  },
  {
   "cell_type": "code",
   "execution_count": 4,
   "id": "7c96acb6-6e93-45ae-b811-99b5208d91e7",
   "metadata": {},
   "outputs": [
    {
     "data": {
      "text/html": [
       "<div>\n",
       "<style scoped>\n",
       "    .dataframe tbody tr th:only-of-type {\n",
       "        vertical-align: middle;\n",
       "    }\n",
       "\n",
       "    .dataframe tbody tr th {\n",
       "        vertical-align: top;\n",
       "    }\n",
       "\n",
       "    .dataframe thead th {\n",
       "        text-align: right;\n",
       "    }\n",
       "</style>\n",
       "<table border=\"1\" class=\"dataframe\">\n",
       "  <thead>\n",
       "    <tr style=\"text-align: right;\">\n",
       "      <th></th>\n",
       "      <th>side_to_play</th>\n",
       "      <th>feat_1</th>\n",
       "      <th>feat_2</th>\n",
       "      <th>feat_3</th>\n",
       "      <th>feat_4</th>\n",
       "      <th>feat_5</th>\n",
       "      <th>feat_6</th>\n",
       "      <th>feat_7</th>\n",
       "      <th>feat_8</th>\n",
       "      <th>feat_9</th>\n",
       "      <th>...</th>\n",
       "      <th>feat_56</th>\n",
       "      <th>feat_57</th>\n",
       "      <th>feat_58</th>\n",
       "      <th>feat_59</th>\n",
       "      <th>feat_60</th>\n",
       "      <th>feat_61</th>\n",
       "      <th>feat_62</th>\n",
       "      <th>feat_63</th>\n",
       "      <th>feat_64</th>\n",
       "      <th>eval</th>\n",
       "    </tr>\n",
       "  </thead>\n",
       "  <tbody>\n",
       "    <tr>\n",
       "      <th>0</th>\n",
       "      <td>-1.0</td>\n",
       "      <td>-5.0</td>\n",
       "      <td>-2.9</td>\n",
       "      <td>-3.0</td>\n",
       "      <td>-9.0</td>\n",
       "      <td>-1.5</td>\n",
       "      <td>-3.0</td>\n",
       "      <td>-2.9</td>\n",
       "      <td>-5.0</td>\n",
       "      <td>-1.0</td>\n",
       "      <td>...</td>\n",
       "      <td>1.0</td>\n",
       "      <td>5.0</td>\n",
       "      <td>2.9</td>\n",
       "      <td>3.0</td>\n",
       "      <td>9.0</td>\n",
       "      <td>1.5</td>\n",
       "      <td>3.0</td>\n",
       "      <td>2.9</td>\n",
       "      <td>5.0</td>\n",
       "      <td>0.07</td>\n",
       "    </tr>\n",
       "    <tr>\n",
       "      <th>1</th>\n",
       "      <td>1.0</td>\n",
       "      <td>-5.0</td>\n",
       "      <td>-2.9</td>\n",
       "      <td>-3.0</td>\n",
       "      <td>-9.0</td>\n",
       "      <td>-1.5</td>\n",
       "      <td>-3.0</td>\n",
       "      <td>-2.9</td>\n",
       "      <td>-5.0</td>\n",
       "      <td>-1.0</td>\n",
       "      <td>...</td>\n",
       "      <td>1.0</td>\n",
       "      <td>5.0</td>\n",
       "      <td>2.9</td>\n",
       "      <td>3.0</td>\n",
       "      <td>9.0</td>\n",
       "      <td>1.5</td>\n",
       "      <td>3.0</td>\n",
       "      <td>2.9</td>\n",
       "      <td>5.0</td>\n",
       "      <td>0.33</td>\n",
       "    </tr>\n",
       "    <tr>\n",
       "      <th>2</th>\n",
       "      <td>-1.0</td>\n",
       "      <td>-5.0</td>\n",
       "      <td>-2.9</td>\n",
       "      <td>-3.0</td>\n",
       "      <td>-9.0</td>\n",
       "      <td>-1.5</td>\n",
       "      <td>-3.0</td>\n",
       "      <td>-2.9</td>\n",
       "      <td>-5.0</td>\n",
       "      <td>-1.0</td>\n",
       "      <td>...</td>\n",
       "      <td>1.0</td>\n",
       "      <td>5.0</td>\n",
       "      <td>2.9</td>\n",
       "      <td>3.0</td>\n",
       "      <td>9.0</td>\n",
       "      <td>1.5</td>\n",
       "      <td>3.0</td>\n",
       "      <td>2.9</td>\n",
       "      <td>5.0</td>\n",
       "      <td>0.33</td>\n",
       "    </tr>\n",
       "    <tr>\n",
       "      <th>3</th>\n",
       "      <td>1.0</td>\n",
       "      <td>-5.0</td>\n",
       "      <td>-2.9</td>\n",
       "      <td>-3.0</td>\n",
       "      <td>0.0</td>\n",
       "      <td>-1.5</td>\n",
       "      <td>-3.0</td>\n",
       "      <td>-2.9</td>\n",
       "      <td>-5.0</td>\n",
       "      <td>-1.0</td>\n",
       "      <td>...</td>\n",
       "      <td>1.0</td>\n",
       "      <td>5.0</td>\n",
       "      <td>2.9</td>\n",
       "      <td>3.0</td>\n",
       "      <td>9.0</td>\n",
       "      <td>1.5</td>\n",
       "      <td>3.0</td>\n",
       "      <td>2.9</td>\n",
       "      <td>5.0</td>\n",
       "      <td>0.50</td>\n",
       "    </tr>\n",
       "    <tr>\n",
       "      <th>4</th>\n",
       "      <td>-1.0</td>\n",
       "      <td>-5.0</td>\n",
       "      <td>-2.9</td>\n",
       "      <td>-3.0</td>\n",
       "      <td>0.0</td>\n",
       "      <td>-1.5</td>\n",
       "      <td>-3.0</td>\n",
       "      <td>-2.9</td>\n",
       "      <td>-5.0</td>\n",
       "      <td>-1.0</td>\n",
       "      <td>...</td>\n",
       "      <td>1.0</td>\n",
       "      <td>5.0</td>\n",
       "      <td>0.0</td>\n",
       "      <td>3.0</td>\n",
       "      <td>9.0</td>\n",
       "      <td>1.5</td>\n",
       "      <td>3.0</td>\n",
       "      <td>2.9</td>\n",
       "      <td>5.0</td>\n",
       "      <td>0.58</td>\n",
       "    </tr>\n",
       "    <tr>\n",
       "      <th>...</th>\n",
       "      <td>...</td>\n",
       "      <td>...</td>\n",
       "      <td>...</td>\n",
       "      <td>...</td>\n",
       "      <td>...</td>\n",
       "      <td>...</td>\n",
       "      <td>...</td>\n",
       "      <td>...</td>\n",
       "      <td>...</td>\n",
       "      <td>...</td>\n",
       "      <td>...</td>\n",
       "      <td>...</td>\n",
       "      <td>...</td>\n",
       "      <td>...</td>\n",
       "      <td>...</td>\n",
       "      <td>...</td>\n",
       "      <td>...</td>\n",
       "      <td>...</td>\n",
       "      <td>...</td>\n",
       "      <td>...</td>\n",
       "      <td>...</td>\n",
       "    </tr>\n",
       "    <tr>\n",
       "      <th>90393</th>\n",
       "      <td>1.0</td>\n",
       "      <td>0.0</td>\n",
       "      <td>-1.5</td>\n",
       "      <td>0.0</td>\n",
       "      <td>0.0</td>\n",
       "      <td>0.0</td>\n",
       "      <td>0.0</td>\n",
       "      <td>-5.0</td>\n",
       "      <td>0.0</td>\n",
       "      <td>0.0</td>\n",
       "      <td>...</td>\n",
       "      <td>1.0</td>\n",
       "      <td>0.0</td>\n",
       "      <td>0.0</td>\n",
       "      <td>0.0</td>\n",
       "      <td>0.0</td>\n",
       "      <td>0.0</td>\n",
       "      <td>0.0</td>\n",
       "      <td>1.5</td>\n",
       "      <td>0.0</td>\n",
       "      <td>6.30</td>\n",
       "    </tr>\n",
       "    <tr>\n",
       "      <th>90394</th>\n",
       "      <td>-1.0</td>\n",
       "      <td>0.0</td>\n",
       "      <td>-1.5</td>\n",
       "      <td>0.0</td>\n",
       "      <td>0.0</td>\n",
       "      <td>0.0</td>\n",
       "      <td>0.0</td>\n",
       "      <td>-5.0</td>\n",
       "      <td>0.0</td>\n",
       "      <td>0.0</td>\n",
       "      <td>...</td>\n",
       "      <td>0.0</td>\n",
       "      <td>0.0</td>\n",
       "      <td>0.0</td>\n",
       "      <td>0.0</td>\n",
       "      <td>0.0</td>\n",
       "      <td>0.0</td>\n",
       "      <td>0.0</td>\n",
       "      <td>1.5</td>\n",
       "      <td>0.0</td>\n",
       "      <td>6.06</td>\n",
       "    </tr>\n",
       "    <tr>\n",
       "      <th>90395</th>\n",
       "      <td>1.0</td>\n",
       "      <td>0.0</td>\n",
       "      <td>-1.5</td>\n",
       "      <td>0.0</td>\n",
       "      <td>0.0</td>\n",
       "      <td>0.0</td>\n",
       "      <td>0.0</td>\n",
       "      <td>-5.0</td>\n",
       "      <td>0.0</td>\n",
       "      <td>0.0</td>\n",
       "      <td>...</td>\n",
       "      <td>0.0</td>\n",
       "      <td>0.0</td>\n",
       "      <td>-9.0</td>\n",
       "      <td>0.0</td>\n",
       "      <td>0.0</td>\n",
       "      <td>0.0</td>\n",
       "      <td>0.0</td>\n",
       "      <td>1.5</td>\n",
       "      <td>0.0</td>\n",
       "      <td>6.47</td>\n",
       "    </tr>\n",
       "    <tr>\n",
       "      <th>90396</th>\n",
       "      <td>-1.0</td>\n",
       "      <td>0.0</td>\n",
       "      <td>-1.5</td>\n",
       "      <td>0.0</td>\n",
       "      <td>0.0</td>\n",
       "      <td>0.0</td>\n",
       "      <td>0.0</td>\n",
       "      <td>-5.0</td>\n",
       "      <td>0.0</td>\n",
       "      <td>0.0</td>\n",
       "      <td>...</td>\n",
       "      <td>1.5</td>\n",
       "      <td>0.0</td>\n",
       "      <td>-9.0</td>\n",
       "      <td>0.0</td>\n",
       "      <td>0.0</td>\n",
       "      <td>0.0</td>\n",
       "      <td>0.0</td>\n",
       "      <td>0.0</td>\n",
       "      <td>0.0</td>\n",
       "      <td>6.51</td>\n",
       "    </tr>\n",
       "    <tr>\n",
       "      <th>90397</th>\n",
       "      <td>1.0</td>\n",
       "      <td>0.0</td>\n",
       "      <td>-1.5</td>\n",
       "      <td>0.0</td>\n",
       "      <td>0.0</td>\n",
       "      <td>0.0</td>\n",
       "      <td>0.0</td>\n",
       "      <td>-5.0</td>\n",
       "      <td>0.0</td>\n",
       "      <td>0.0</td>\n",
       "      <td>...</td>\n",
       "      <td>1.5</td>\n",
       "      <td>0.0</td>\n",
       "      <td>0.0</td>\n",
       "      <td>0.0</td>\n",
       "      <td>0.0</td>\n",
       "      <td>0.0</td>\n",
       "      <td>0.0</td>\n",
       "      <td>0.0</td>\n",
       "      <td>0.0</td>\n",
       "      <td>7.19</td>\n",
       "    </tr>\n",
       "  </tbody>\n",
       "</table>\n",
       "<p>90398 rows × 66 columns</p>\n",
       "</div>"
      ],
      "text/plain": [
       "       side_to_play  feat_1  feat_2  feat_3  feat_4  feat_5  feat_6  feat_7  \\\n",
       "0              -1.0    -5.0    -2.9    -3.0    -9.0    -1.5    -3.0    -2.9   \n",
       "1               1.0    -5.0    -2.9    -3.0    -9.0    -1.5    -3.0    -2.9   \n",
       "2              -1.0    -5.0    -2.9    -3.0    -9.0    -1.5    -3.0    -2.9   \n",
       "3               1.0    -5.0    -2.9    -3.0     0.0    -1.5    -3.0    -2.9   \n",
       "4              -1.0    -5.0    -2.9    -3.0     0.0    -1.5    -3.0    -2.9   \n",
       "...             ...     ...     ...     ...     ...     ...     ...     ...   \n",
       "90393           1.0     0.0    -1.5     0.0     0.0     0.0     0.0    -5.0   \n",
       "90394          -1.0     0.0    -1.5     0.0     0.0     0.0     0.0    -5.0   \n",
       "90395           1.0     0.0    -1.5     0.0     0.0     0.0     0.0    -5.0   \n",
       "90396          -1.0     0.0    -1.5     0.0     0.0     0.0     0.0    -5.0   \n",
       "90397           1.0     0.0    -1.5     0.0     0.0     0.0     0.0    -5.0   \n",
       "\n",
       "       feat_8  feat_9  ...  feat_56  feat_57  feat_58  feat_59  feat_60  \\\n",
       "0        -5.0    -1.0  ...      1.0      5.0      2.9      3.0      9.0   \n",
       "1        -5.0    -1.0  ...      1.0      5.0      2.9      3.0      9.0   \n",
       "2        -5.0    -1.0  ...      1.0      5.0      2.9      3.0      9.0   \n",
       "3        -5.0    -1.0  ...      1.0      5.0      2.9      3.0      9.0   \n",
       "4        -5.0    -1.0  ...      1.0      5.0      0.0      3.0      9.0   \n",
       "...       ...     ...  ...      ...      ...      ...      ...      ...   \n",
       "90393     0.0     0.0  ...      1.0      0.0      0.0      0.0      0.0   \n",
       "90394     0.0     0.0  ...      0.0      0.0      0.0      0.0      0.0   \n",
       "90395     0.0     0.0  ...      0.0      0.0     -9.0      0.0      0.0   \n",
       "90396     0.0     0.0  ...      1.5      0.0     -9.0      0.0      0.0   \n",
       "90397     0.0     0.0  ...      1.5      0.0      0.0      0.0      0.0   \n",
       "\n",
       "       feat_61  feat_62  feat_63  feat_64  eval  \n",
       "0          1.5      3.0      2.9      5.0  0.07  \n",
       "1          1.5      3.0      2.9      5.0  0.33  \n",
       "2          1.5      3.0      2.9      5.0  0.33  \n",
       "3          1.5      3.0      2.9      5.0  0.50  \n",
       "4          1.5      3.0      2.9      5.0  0.58  \n",
       "...        ...      ...      ...      ...   ...  \n",
       "90393      0.0      0.0      1.5      0.0  6.30  \n",
       "90394      0.0      0.0      1.5      0.0  6.06  \n",
       "90395      0.0      0.0      1.5      0.0  6.47  \n",
       "90396      0.0      0.0      0.0      0.0  6.51  \n",
       "90397      0.0      0.0      0.0      0.0  7.19  \n",
       "\n",
       "[90398 rows x 66 columns]"
      ]
     },
     "execution_count": 4,
     "metadata": {},
     "output_type": "execute_result"
    }
   ],
   "source": [
    "df"
   ]
  },
  {
   "cell_type": "code",
   "execution_count": 5,
   "id": "1439c605-c8ae-4072-821c-1b0ca73ca089",
   "metadata": {},
   "outputs": [
    {
     "data": {
      "text/plain": [
       "(90398, 66)"
      ]
     },
     "execution_count": 5,
     "metadata": {},
     "output_type": "execute_result"
    }
   ],
   "source": [
    "df.shape\n"
   ]
  },
  {
   "cell_type": "code",
   "execution_count": 6,
   "id": "ad935606-5284-45e4-922a-c79a3a447b44",
   "metadata": {},
   "outputs": [],
   "source": [
    "df[\"eval\"] = df[\"eval\"].clip(lower = -15, upper = 15)"
   ]
  },
  {
   "cell_type": "code",
   "execution_count": 7,
   "id": "c30edda4-83f7-49e5-b1ab-6ee2e524f00b",
   "metadata": {},
   "outputs": [
    {
     "data": {
      "text/plain": [
       "-15.0"
      ]
     },
     "execution_count": 7,
     "metadata": {},
     "output_type": "execute_result"
    }
   ],
   "source": [
    "df[\"eval\"].min()"
   ]
  },
  {
   "cell_type": "code",
   "execution_count": 8,
   "id": "d803075e-34b8-4337-8149-6084b9e854da",
   "metadata": {},
   "outputs": [],
   "source": [
    "X = df.drop(columns = \"eval\")"
   ]
  },
  {
   "cell_type": "code",
   "execution_count": 9,
   "id": "b68e12b1-ea48-4f3b-a509-48f7910aaacf",
   "metadata": {},
   "outputs": [],
   "source": [
    "y = df[[\"eval\"]]"
   ]
  },
  {
   "cell_type": "code",
   "execution_count": 10,
   "id": "5e95b6f9-6ef6-48b8-9eac-55f89a34bf0b",
   "metadata": {},
   "outputs": [
    {
     "data": {
      "text/html": [
       "<div>\n",
       "<style scoped>\n",
       "    .dataframe tbody tr th:only-of-type {\n",
       "        vertical-align: middle;\n",
       "    }\n",
       "\n",
       "    .dataframe tbody tr th {\n",
       "        vertical-align: top;\n",
       "    }\n",
       "\n",
       "    .dataframe thead th {\n",
       "        text-align: right;\n",
       "    }\n",
       "</style>\n",
       "<table border=\"1\" class=\"dataframe\">\n",
       "  <thead>\n",
       "    <tr style=\"text-align: right;\">\n",
       "      <th></th>\n",
       "      <th>eval</th>\n",
       "    </tr>\n",
       "  </thead>\n",
       "  <tbody>\n",
       "    <tr>\n",
       "      <th>0</th>\n",
       "      <td>0.07</td>\n",
       "    </tr>\n",
       "    <tr>\n",
       "      <th>1</th>\n",
       "      <td>0.33</td>\n",
       "    </tr>\n",
       "    <tr>\n",
       "      <th>2</th>\n",
       "      <td>0.33</td>\n",
       "    </tr>\n",
       "    <tr>\n",
       "      <th>3</th>\n",
       "      <td>0.50</td>\n",
       "    </tr>\n",
       "    <tr>\n",
       "      <th>4</th>\n",
       "      <td>0.58</td>\n",
       "    </tr>\n",
       "  </tbody>\n",
       "</table>\n",
       "</div>"
      ],
      "text/plain": [
       "   eval\n",
       "0  0.07\n",
       "1  0.33\n",
       "2  0.33\n",
       "3  0.50\n",
       "4  0.58"
      ]
     },
     "execution_count": 10,
     "metadata": {},
     "output_type": "execute_result"
    }
   ],
   "source": [
    "y.head()"
   ]
  },
  {
   "cell_type": "code",
   "execution_count": 82,
   "id": "fa97d1c8-a256-424d-814a-b751d3503d96",
   "metadata": {},
   "outputs": [
    {
     "data": {
      "text/html": [
       "<div>\n",
       "<style scoped>\n",
       "    .dataframe tbody tr th:only-of-type {\n",
       "        vertical-align: middle;\n",
       "    }\n",
       "\n",
       "    .dataframe tbody tr th {\n",
       "        vertical-align: top;\n",
       "    }\n",
       "\n",
       "    .dataframe thead th {\n",
       "        text-align: right;\n",
       "    }\n",
       "</style>\n",
       "<table border=\"1\" class=\"dataframe\">\n",
       "  <thead>\n",
       "    <tr style=\"text-align: right;\">\n",
       "      <th></th>\n",
       "      <th>side_to_play</th>\n",
       "      <th>feat_1</th>\n",
       "      <th>feat_2</th>\n",
       "      <th>feat_3</th>\n",
       "      <th>feat_4</th>\n",
       "      <th>feat_5</th>\n",
       "      <th>feat_6</th>\n",
       "      <th>feat_7</th>\n",
       "      <th>feat_8</th>\n",
       "      <th>feat_9</th>\n",
       "      <th>...</th>\n",
       "      <th>feat_55</th>\n",
       "      <th>feat_56</th>\n",
       "      <th>feat_57</th>\n",
       "      <th>feat_58</th>\n",
       "      <th>feat_59</th>\n",
       "      <th>feat_60</th>\n",
       "      <th>feat_61</th>\n",
       "      <th>feat_62</th>\n",
       "      <th>feat_63</th>\n",
       "      <th>feat_64</th>\n",
       "    </tr>\n",
       "  </thead>\n",
       "  <tbody>\n",
       "    <tr>\n",
       "      <th>4</th>\n",
       "      <td>-1.0</td>\n",
       "      <td>-5.0</td>\n",
       "      <td>-2.9</td>\n",
       "      <td>-3.0</td>\n",
       "      <td>0.0</td>\n",
       "      <td>-1.5</td>\n",
       "      <td>-3.0</td>\n",
       "      <td>-2.9</td>\n",
       "      <td>-5.0</td>\n",
       "      <td>-1.0</td>\n",
       "      <td>...</td>\n",
       "      <td>1.0</td>\n",
       "      <td>1.0</td>\n",
       "      <td>5.0</td>\n",
       "      <td>0.0</td>\n",
       "      <td>3.0</td>\n",
       "      <td>9.0</td>\n",
       "      <td>1.5</td>\n",
       "      <td>3.0</td>\n",
       "      <td>2.9</td>\n",
       "      <td>5.0</td>\n",
       "    </tr>\n",
       "  </tbody>\n",
       "</table>\n",
       "<p>1 rows × 65 columns</p>\n",
       "</div>"
      ],
      "text/plain": [
       "   side_to_play  feat_1  feat_2  feat_3  feat_4  feat_5  feat_6  feat_7  \\\n",
       "4          -1.0    -5.0    -2.9    -3.0     0.0    -1.5    -3.0    -2.9   \n",
       "\n",
       "   feat_8  feat_9  ...  feat_55  feat_56  feat_57  feat_58  feat_59  feat_60  \\\n",
       "4    -5.0    -1.0  ...      1.0      1.0      5.0      0.0      3.0      9.0   \n",
       "\n",
       "   feat_61  feat_62  feat_63  feat_64  \n",
       "4      1.5      3.0      2.9      5.0  \n",
       "\n",
       "[1 rows x 65 columns]"
      ]
     },
     "execution_count": 82,
     "metadata": {},
     "output_type": "execute_result"
    }
   ],
   "source": [
    "X_pred = X.iloc[[4]]\n",
    "X_pred"
   ]
  },
  {
   "cell_type": "code",
   "execution_count": 11,
   "id": "2fc58cd2-4b8c-4eb2-8638-eee93dfd96cb",
   "metadata": {},
   "outputs": [],
   "source": [
    "from sklearn.model_selection import train_test_split\n",
    "X_train, X_test, y_train, y_test = train_test_split(X, y, test_size=0.3, random_state=42)"
   ]
  },
  {
   "cell_type": "code",
   "execution_count": 12,
   "id": "6f1d8548-1bbc-41ec-a750-c6877e1adcbd",
   "metadata": {},
   "outputs": [
    {
     "data": {
      "text/plain": [
       "(63278, 65)"
      ]
     },
     "execution_count": 12,
     "metadata": {},
     "output_type": "execute_result"
    }
   ],
   "source": [
    "X_train.shape"
   ]
  },
  {
   "cell_type": "markdown",
   "id": "2e4f882d-82ee-42be-86b9-76b47ff08032",
   "metadata": {
    "tags": []
   },
   "source": [
    "## Deep Learning Model "
   ]
  },
  {
   "cell_type": "code",
   "execution_count": 13,
   "id": "1df4132a-c16c-41d1-8f3b-45a33eb232b0",
   "metadata": {},
   "outputs": [
    {
     "name": "stderr",
     "output_type": "stream",
     "text": [
      "2022-11-09 17:25:16.390050: I tensorflow/core/platform/cpu_feature_guard.cc:193] This TensorFlow binary is optimized with oneAPI Deep Neural Network Library (oneDNN) to use the following CPU instructions in performance-critical operations:  AVX2 FMA\n",
      "To enable them in other operations, rebuild TensorFlow with the appropriate compiler flags.\n",
      "2022-11-09 17:25:17.344278: W tensorflow/stream_executor/platform/default/dso_loader.cc:64] Could not load dynamic library 'libcudart.so.11.0'; dlerror: libcudart.so.11.0: cannot open shared object file: No such file or directory\n",
      "2022-11-09 17:25:17.344310: I tensorflow/stream_executor/cuda/cudart_stub.cc:29] Ignore above cudart dlerror if you do not have a GPU set up on your machine.\n",
      "2022-11-09 17:25:17.469752: E tensorflow/stream_executor/cuda/cuda_blas.cc:2981] Unable to register cuBLAS factory: Attempting to register factory for plugin cuBLAS when one has already been registered\n",
      "2022-11-09 17:25:19.574388: W tensorflow/stream_executor/platform/default/dso_loader.cc:64] Could not load dynamic library 'libnvinfer.so.7'; dlerror: libnvinfer.so.7: cannot open shared object file: No such file or directory\n",
      "2022-11-09 17:25:19.574551: W tensorflow/stream_executor/platform/default/dso_loader.cc:64] Could not load dynamic library 'libnvinfer_plugin.so.7'; dlerror: libnvinfer_plugin.so.7: cannot open shared object file: No such file or directory\n",
      "2022-11-09 17:25:19.574563: W tensorflow/compiler/tf2tensorrt/utils/py_utils.cc:38] TF-TRT Warning: Cannot dlopen some TensorRT libraries. If you would like to use Nvidia GPU with TensorRT, please make sure the missing libraries mentioned above are installed properly.\n"
     ]
    }
   ],
   "source": [
    "from tensorflow.keras import Sequential, layers"
   ]
  },
  {
   "cell_type": "code",
   "execution_count": 14,
   "id": "21888273-4a7c-4386-9510-5f3af87ab848",
   "metadata": {},
   "outputs": [
    {
     "name": "stdout",
     "output_type": "stream",
     "text": [
      "Model: \"sequential\"\n",
      "_________________________________________________________________\n",
      " Layer (type)                Output Shape              Param #   \n",
      "=================================================================\n",
      " dense (Dense)               (None, 2048)              135168    \n",
      "                                                                 \n",
      " dense_1 (Dense)             (None, 64)                131136    \n",
      "                                                                 \n",
      " dense_2 (Dense)             (None, 1)                 65        \n",
      "                                                                 \n",
      "=================================================================\n",
      "Total params: 266,369\n",
      "Trainable params: 266,369\n",
      "Non-trainable params: 0\n",
      "_________________________________________________________________\n"
     ]
    },
    {
     "name": "stderr",
     "output_type": "stream",
     "text": [
      "2022-11-09 17:26:00.321598: W tensorflow/stream_executor/platform/default/dso_loader.cc:64] Could not load dynamic library 'libcuda.so.1'; dlerror: libcuda.so.1: cannot open shared object file: No such file or directory\n",
      "2022-11-09 17:26:00.322732: W tensorflow/stream_executor/cuda/cuda_driver.cc:263] failed call to cuInit: UNKNOWN ERROR (303)\n",
      "2022-11-09 17:26:00.323108: I tensorflow/stream_executor/cuda/cuda_diagnostics.cc:156] kernel driver does not appear to be running on this host (DESKTOP-0Q0JFQN): /proc/driver/nvidia/version does not exist\n",
      "2022-11-09 17:26:00.326131: I tensorflow/core/platform/cpu_feature_guard.cc:193] This TensorFlow binary is optimized with oneAPI Deep Neural Network Library (oneDNN) to use the following CPU instructions in performance-critical operations:  AVX2 FMA\n",
      "To enable them in other operations, rebuild TensorFlow with the appropriate compiler flags.\n"
     ]
    }
   ],
   "source": [
    "# Model definition\n",
    "model = Sequential()\n",
    "model.add(layers.Dense(2048, activation='relu', input_dim=65))\n",
    "# model.add(layers.Dense(64, activation='relu'))\n",
    "# model.add(layers.Dense(64, activation='relu'))\n",
    "# model.add(layers.Dense(64, activation='relu'))\n",
    "# model.add(layers.Dense(64, activation='relu'))\n",
    "# model.add(layers.Dense(32, activation='relu'))\n",
    "# model.add(layers.Dense(16, activation='relu'))\n",
    "model.add(layers.Dense(64, activation='relu'))\n",
    "model.add(layers.Dense(1, activation='linear'))\n",
    "model.summary()\n"
   ]
  },
  {
   "cell_type": "code",
   "execution_count": 15,
   "id": "9b721abd-4b20-4741-b577-a2c6cb5dc029",
   "metadata": {},
   "outputs": [],
   "source": [
    "model.compile(loss='mse', optimizer='adam')\n"
   ]
  },
  {
   "cell_type": "code",
   "execution_count": null,
   "id": "bb1403f0-fce0-4ac6-9ca7-dbd867003e0d",
   "metadata": {},
   "outputs": [
    {
     "name": "stdout",
     "output_type": "stream",
     "text": [
      "Epoch 1/20\n",
      "904/904 [==============================] - 4s 5ms/step - loss: 0.4231\n",
      "Epoch 2/20\n",
      "904/904 [==============================] - 4s 5ms/step - loss: 0.4041\n",
      "Epoch 3/20\n",
      "904/904 [==============================] - 4s 5ms/step - loss: 0.4124\n",
      "Epoch 4/20\n",
      "904/904 [==============================] - 4s 5ms/step - loss: 0.4188\n",
      "Epoch 5/20\n",
      "904/904 [==============================] - 4s 5ms/step - loss: 0.4042\n",
      "Epoch 6/20\n",
      "904/904 [==============================] - 5s 5ms/step - loss: 0.4007\n",
      "Epoch 7/20\n",
      "427/904 [=============>................] - ETA: 2s - loss: 0.3917"
     ]
    }
   ],
   "source": [
    "model.fit(X_train, y_train, batch_size=70, epochs=20,verbose = 1)"
   ]
  },
  {
   "cell_type": "code",
   "execution_count": 33,
   "id": "ca7484d1-e276-4085-90a5-849aefd486c0",
   "metadata": {},
   "outputs": [
    {
     "name": "stdout",
     "output_type": "stream",
     "text": [
      "848/848 [==============================] - 2s 3ms/step - loss: 9.2777\n"
     ]
    },
    {
     "data": {
      "text/plain": [
       "9.277684211730957"
      ]
     },
     "execution_count": 33,
     "metadata": {},
     "output_type": "execute_result"
    }
   ],
   "source": [
    "model.evaluate(X_test, y_test, verbose = 1)"
   ]
  },
  {
   "cell_type": "markdown",
   "id": "101aec3b-2a43-4319-83c0-70e55d46d0f8",
   "metadata": {},
   "source": [
    "## Exporting model"
   ]
  },
  {
   "cell_type": "code",
   "execution_count": 125,
   "id": "30eb32e9-8154-4a6e-bb69-95e36db6b363",
   "metadata": {},
   "outputs": [
    {
     "name": "stdout",
     "output_type": "stream",
     "text": [
      "Saved model to disk\n"
     ]
    }
   ],
   "source": [
    "# serialize model to JSON\n",
    "model2_json = model.to_json()\n",
    "with open(\"model2.json\", \"w\") as json_file:\n",
    "    json_file.write(model2_json)\n",
    "# serialize weights to HDF5\n",
    "model.save_weights(\"model2.h5\")\n",
    "print(\"Saved model to disk\")"
   ]
  },
  {
   "cell_type": "markdown",
   "id": "b648e67b-6667-462a-a213-145b5f4e44df",
   "metadata": {},
   "source": [
    "## Loading model"
   ]
  },
  {
   "cell_type": "code",
   "execution_count": null,
   "id": "c8129ff1-cc9d-49bf-a207-7ecf8e2ded5e",
   "metadata": {},
   "outputs": [],
   "source": [
    "# load json and create model\n",
    "json_file = open('model.json', 'r')\n",
    "loaded_model_json = json_file.read()\n",
    "json_file.close()\n",
    "loaded_model = model_from_json(loaded_model_json)\n",
    "# load weights into new model\n",
    "loaded_model.load_weights(\"model.h5\")\n",
    "print(\"Loaded model from disk\")"
   ]
  },
  {
   "cell_type": "markdown",
   "id": "d7c8930b-9c04-479d-8507-567c6bf0b528",
   "metadata": {},
   "source": [
    "## Evaluating Loaded models"
   ]
  },
  {
   "cell_type": "code",
   "execution_count": null,
   "id": "f5887bbf-48b2-480c-af54-b0dc429624a2",
   "metadata": {},
   "outputs": [],
   "source": [
    "loaded_model.compile(loss='RMSE', optimizer='adam', metrics=['accuracy'])\n",
    "score = loaded_model.evaluate(X, y, verbose=1)\n",
    "print(\"%s: %.2f%%\" % (loaded_model.metrics_names[1], score[1]*100))"
   ]
  }
 ],
 "metadata": {
  "kernelspec": {
   "display_name": "Python 3 (ipykernel)",
   "language": "python",
   "name": "python3"
  },
  "language_info": {
   "codemirror_mode": {
    "name": "ipython",
    "version": 3
   },
   "file_extension": ".py",
   "mimetype": "text/x-python",
   "name": "python",
   "nbconvert_exporter": "python",
   "pygments_lexer": "ipython3",
   "version": "3.8.12"
  }
 },
 "nbformat": 4,
 "nbformat_minor": 5
}
