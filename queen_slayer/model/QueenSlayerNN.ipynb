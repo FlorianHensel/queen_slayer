{
 "cells": [
  {
   "cell_type": "markdown",
   "id": "ff24ee77-eeb8-4ace-bd67-f17341235bf8",
   "metadata": {},
   "source": [
    "# <b>Neural Network Model Design<b/>\n"
   ]
  },
  {
   "cell_type": "markdown",
   "id": "2cf39f92-9b9e-41dc-8fba-1764f37163e6",
   "metadata": {
    "tags": []
   },
   "source": [
    "## Import Cleaned Data"
   ]
  },
  {
   "cell_type": "code",
   "execution_count": 1,
   "id": "d5c31bc5-da39-46c3-bacd-e961e3ecac8a",
   "metadata": {},
   "outputs": [],
   "source": [
    "import numpy as np\n",
    "import pandas as pd"
   ]
  },
  {
   "cell_type": "code",
   "execution_count": 15,
   "id": "a5b6eca5-8476-47e1-ab09-69b508f53954",
   "metadata": {},
   "outputs": [],
   "source": [
    "df = pd.read_csv(\"../../data_cleaning/train_data_sample.csv\")"
   ]
  },
  {
   "cell_type": "code",
   "execution_count": 16,
   "id": "1439c605-c8ae-4072-821c-1b0ca73ca089",
   "metadata": {},
   "outputs": [
    {
     "data": {
      "text/plain": [
       "(14927, 66)"
      ]
     },
     "execution_count": 16,
     "metadata": {},
     "output_type": "execute_result"
    }
   ],
   "source": [
    "df.shape"
   ]
  },
  {
   "cell_type": "code",
   "execution_count": 17,
   "id": "ad935606-5284-45e4-922a-c79a3a447b44",
   "metadata": {},
   "outputs": [],
   "source": [
    "df[\"eval\"] = df[\"eval\"].clip(lower = -15, upper = 15)"
   ]
  },
  {
   "cell_type": "code",
   "execution_count": 18,
   "id": "c30edda4-83f7-49e5-b1ab-6ee2e524f00b",
   "metadata": {},
   "outputs": [
    {
     "data": {
      "text/plain": [
       "-15.0"
      ]
     },
     "execution_count": 18,
     "metadata": {},
     "output_type": "execute_result"
    }
   ],
   "source": [
    "df[\"eval\"].min() "
   ]
  },
  {
   "cell_type": "code",
   "execution_count": 19,
   "id": "d803075e-34b8-4337-8149-6084b9e854da",
   "metadata": {},
   "outputs": [],
   "source": [
    "X = df.drop(columns = \"eval\")"
   ]
  },
  {
   "cell_type": "code",
   "execution_count": 20,
   "id": "b68e12b1-ea48-4f3b-a509-48f7910aaacf",
   "metadata": {},
   "outputs": [],
   "source": [
    "y = df[[\"eval\"]]"
   ]
  },
  {
   "cell_type": "code",
   "execution_count": 21,
   "id": "2fc58cd2-4b8c-4eb2-8638-eee93dfd96cb",
   "metadata": {},
   "outputs": [],
   "source": [
    "from sklearn.model_selection import train_test_split\n",
    "X_train, X_test, y_train, y_test = train_test_split(X, y, test_size=0.3, random_state=42)"
   ]
  },
  {
   "cell_type": "code",
   "execution_count": 22,
   "id": "6f1d8548-1bbc-41ec-a750-c6877e1adcbd",
   "metadata": {},
   "outputs": [
    {
     "data": {
      "text/plain": [
       "(10448, 65)"
      ]
     },
     "execution_count": 22,
     "metadata": {},
     "output_type": "execute_result"
    }
   ],
   "source": [
    "X_train.shape"
   ]
  },
  {
   "cell_type": "markdown",
   "id": "2e4f882d-82ee-42be-86b9-76b47ff08032",
   "metadata": {
    "tags": []
   },
   "source": [
    "## Deep Learning Model "
   ]
  },
  {
   "cell_type": "code",
   "execution_count": 23,
   "id": "1df4132a-c16c-41d1-8f3b-45a33eb232b0",
   "metadata": {},
   "outputs": [],
   "source": [
    "from tensorflow.keras import Sequential, layers"
   ]
  },
  {
   "cell_type": "code",
   "execution_count": 24,
   "id": "21888273-4a7c-4386-9510-5f3af87ab848",
   "metadata": {},
   "outputs": [],
   "source": [
    "# Model definition\n",
    "model = Sequential()\n",
    "model.add(layers.Dense(128, activation='relu', input_dim=65))\n",
    "model.add(layers.Dense(64, activation='relu'))\n",
    "model.add(layers.Dense(64, activation='relu'))\n",
    "model.add(layers.Dense(64, activation='relu'))\n",
    "model.add(layers.Dense(64, activation='relu'))\n",
    "model.add(layers.Dense(64, activation='relu'))\n",
    "model.add(layers.Dense(64, activation='relu'))\n",
    "model.add(layers.Dense(64, activation='relu'))\n",
    "model.add(layers.Dense(64, activation='relu'))\n",
    "model.add(layers.Dense(1, activation='linear'))\n",
    "\n",
    "model.compile(loss='mae', optimizer='adam')"
   ]
  },
  {
   "cell_type": "code",
   "execution_count": 25,
   "id": "bb1403f0-fce0-4ac6-9ca7-dbd867003e0d",
   "metadata": {},
   "outputs": [
    {
     "name": "stdout",
     "output_type": "stream",
     "text": [
      "Epoch 1/20\n",
      "164/164 [==============================] - 1s 2ms/step - loss: 3.5939\n",
      "Epoch 2/20\n",
      "164/164 [==============================] - 0s 2ms/step - loss: 3.1070\n",
      "Epoch 3/20\n",
      "164/164 [==============================] - 0s 2ms/step - loss: 2.5695\n",
      "Epoch 4/20\n",
      "164/164 [==============================] - 0s 2ms/step - loss: 2.2611\n",
      "Epoch 5/20\n",
      "164/164 [==============================] - 0s 2ms/step - loss: 2.0770\n",
      "Epoch 6/20\n",
      "164/164 [==============================] - 0s 2ms/step - loss: 1.9083\n",
      "Epoch 7/20\n",
      "164/164 [==============================] - 0s 2ms/step - loss: 1.7861\n",
      "Epoch 8/20\n",
      "164/164 [==============================] - 0s 2ms/step - loss: 1.6885\n",
      "Epoch 9/20\n",
      "164/164 [==============================] - 0s 1ms/step - loss: 1.5913\n",
      "Epoch 10/20\n",
      "164/164 [==============================] - 0s 2ms/step - loss: 1.5430\n",
      "Epoch 11/20\n",
      "164/164 [==============================] - 0s 1ms/step - loss: 1.4604\n",
      "Epoch 12/20\n",
      "164/164 [==============================] - 0s 2ms/step - loss: 1.4129\n",
      "Epoch 13/20\n",
      "164/164 [==============================] - 0s 2ms/step - loss: 1.3665\n",
      "Epoch 14/20\n",
      "164/164 [==============================] - 0s 2ms/step - loss: 1.3407\n",
      "Epoch 15/20\n",
      "164/164 [==============================] - 0s 2ms/step - loss: 1.2735\n",
      "Epoch 16/20\n",
      "164/164 [==============================] - 0s 2ms/step - loss: 1.2384\n",
      "Epoch 17/20\n",
      "164/164 [==============================] - 0s 1ms/step - loss: 1.1983\n",
      "Epoch 18/20\n",
      "164/164 [==============================] - 0s 2ms/step - loss: 1.1695\n",
      "Epoch 19/20\n",
      "164/164 [==============================] - 0s 2ms/step - loss: 1.1231\n",
      "Epoch 20/20\n",
      "164/164 [==============================] - 0s 2ms/step - loss: 1.1053\n"
     ]
    },
    {
     "data": {
      "text/plain": [
       "<keras.callbacks.History at 0x7f5f1035e550>"
      ]
     },
     "execution_count": 25,
     "metadata": {},
     "output_type": "execute_result"
    }
   ],
   "source": [
    "model.fit(X_train, y_train, batch_size=64, epochs=20,verbose=1)"
   ]
  },
  {
   "cell_type": "code",
   "execution_count": 26,
   "id": "ca7484d1-e276-4085-90a5-849aefd486c0",
   "metadata": {},
   "outputs": [
    {
     "name": "stdout",
     "output_type": "stream",
     "text": [
      "140/140 [==============================] - 0s 760us/step - loss: 1.9479\n"
     ]
    },
    {
     "data": {
      "text/plain": [
       "1.9478521347045898"
      ]
     },
     "execution_count": 26,
     "metadata": {},
     "output_type": "execute_result"
    }
   ],
   "source": [
    "model.evaluate(X_test, y_test, verbose = 1)"
   ]
  },
  {
   "cell_type": "markdown",
   "id": "101aec3b-2a43-4319-83c0-70e55d46d0f8",
   "metadata": {},
   "source": [
    "## Exporting model"
   ]
  },
  {
   "cell_type": "code",
   "execution_count": 125,
   "id": "30eb32e9-8154-4a6e-bb69-95e36db6b363",
   "metadata": {},
   "outputs": [
    {
     "name": "stdout",
     "output_type": "stream",
     "text": [
      "Saved model to disk\n"
     ]
    }
   ],
   "source": [
    "# serialize model to JSON\n",
    "model2_json = model.to_json()\n",
    "with open(\"model2.json\", \"w\") as json_file:\n",
    "    json_file.write(model2_json)\n",
    "# serialize weights to HDF5\n",
    "model.save_weights(\"model2.h5\")\n",
    "print(\"Saved model to disk\")"
   ]
  },
  {
   "cell_type": "markdown",
   "id": "b648e67b-6667-462a-a213-145b5f4e44df",
   "metadata": {},
   "source": [
    "## Loading model"
   ]
  },
  {
   "cell_type": "code",
   "execution_count": 27,
   "id": "c8129ff1-cc9d-49bf-a207-7ecf8e2ded5e",
   "metadata": {},
   "outputs": [
    {
     "ename": "NameError",
     "evalue": "name 'model_from_json' is not defined",
     "output_type": "error",
     "traceback": [
      "\u001b[0;31m---------------------------------------------------------------------------\u001b[0m",
      "\u001b[0;31mNameError\u001b[0m                                 Traceback (most recent call last)",
      "Cell \u001b[0;32mIn [27], line 5\u001b[0m\n\u001b[1;32m      3\u001b[0m loaded_model_json \u001b[38;5;241m=\u001b[39m json_file\u001b[38;5;241m.\u001b[39mread()\n\u001b[1;32m      4\u001b[0m json_file\u001b[38;5;241m.\u001b[39mclose()\n\u001b[0;32m----> 5\u001b[0m loaded_model \u001b[38;5;241m=\u001b[39m \u001b[43mmodel_from_json\u001b[49m(loaded_model_json)\n\u001b[1;32m      6\u001b[0m \u001b[38;5;66;03m# load weights into new model\u001b[39;00m\n\u001b[1;32m      7\u001b[0m loaded_model\u001b[38;5;241m.\u001b[39mload_weights(\u001b[38;5;124m\"\u001b[39m\u001b[38;5;124mmodel.h5\u001b[39m\u001b[38;5;124m\"\u001b[39m)\n",
      "\u001b[0;31mNameError\u001b[0m: name 'model_from_json' is not defined"
     ]
    }
   ],
   "source": [
    "# load json and create model\n",
    "json_file = open('model.json', 'r')\n",
    "loaded_model_json = json_file.read()\n",
    "json_file.close()\n",
    "loaded_model = model_from_json(loaded_model_json)\n",
    "# load weights into new model\n",
    "loaded_model.load_weights(\"model.h5\")\n",
    "print(\"Loaded model from disk\")"
   ]
  },
  {
   "cell_type": "markdown",
   "id": "d7c8930b-9c04-479d-8507-567c6bf0b528",
   "metadata": {},
   "source": [
    "## Evaluating Loaded models"
   ]
  },
  {
   "cell_type": "code",
   "execution_count": null,
   "id": "f5887bbf-48b2-480c-af54-b0dc429624a2",
   "metadata": {},
   "outputs": [],
   "source": [
    "loaded_model.compile(loss='RMSE', optimizer='adam', metrics=['accuracy'])\n",
    "score = loaded_model.evaluate(X, y, verbose=1)\n",
    "print(\"%s: %.2f%%\" % (loaded_model.metrics_names[1], score[1]*100))"
   ]
  }
 ],
 "metadata": {
  "kernelspec": {
   "display_name": "Python 3 (ipykernel)",
   "language": "python",
   "name": "python3"
  },
  "language_info": {
   "codemirror_mode": {
    "name": "ipython",
    "version": 3
   },
   "file_extension": ".py",
   "mimetype": "text/x-python",
   "name": "python",
   "nbconvert_exporter": "python",
   "pygments_lexer": "ipython3",
   "version": "3.8.12"
  },
  "toc": {
   "base_numbering": 1,
   "nav_menu": {},
   "number_sections": true,
   "sideBar": true,
   "skip_h1_title": false,
   "title_cell": "Table of Contents",
   "title_sidebar": "Contents",
   "toc_cell": false,
   "toc_position": {},
   "toc_section_display": true,
   "toc_window_display": false
  }
 },
 "nbformat": 4,
 "nbformat_minor": 5
}
